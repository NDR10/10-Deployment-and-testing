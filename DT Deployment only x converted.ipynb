{
 "cells": [
  {
   "cell_type": "code",
   "execution_count": null,
   "id": "7017c17e-79b4-449a-9871-d9dac890dd8d",
   "metadata": {},
   "outputs": [],
   "source": [
    "import pandas as pd\n",
    "import pickle\n",
    "import warnings\n",
    "warnings.filterwarnings(\"ignore\")"
   ]
  },
  {
   "cell_type": "code",
   "execution_count": null,
   "id": "d49c02e9-0ec9-46bf-a10f-b3974e12da3a",
   "metadata": {},
   "outputs": [],
   "source": [
    "dataset = pd.read_csv (\"50_Startups.csv\")\n",
    "dataset = pd.get_dummies(dataset, dtype = int, drop_first = True)\n",
    "User_Input = dataset[['R&D Spend', 'Administration', 'Marketing Spend', 'State_Florida', 'State_New York']]\n",
    "Input = dataset[['R&D Spend', 'Administration', 'Marketing Spend', 'State_Florida', 'State_New York']]\n",
    "Output = dataset[[\"Profit\"]]\n",
    "from sklearn.model_selection import train_test_split as tts\n",
    "X_train, X_test, Y_train, Y_test = tts (Input, Output, test_size = 0.3, random_state = 0)\n",
    "from sklearn.tree import DecisionTreeRegressor as DTR\n",
    "Model = DTR(criterion = \"absolute_error\", splitter= \"random\")\n",
    "Model = Model.fit(X_train, Y_train)\n"
   ]
  },
  {
   "cell_type": "code",
   "execution_count": null,
   "id": "0daa301f-1fd1-46dc-a28f-582488001bb2",
   "metadata": {},
   "outputs": [],
   "source": [
    "load_model=pickle.load(open(\"Python_program_DT_AE.sav\", \"rb\"))\n",
    "Result = load_model.predict([[1245,785,9886,1,0]])\n",
    "Result"
   ]
  },
  {
   "cell_type": "code",
   "execution_count": null,
   "id": "1a1f8204-a5b3-4f8d-a964-927d1ec05e2b",
   "metadata": {},
   "outputs": [],
   "source": []
  }
 ],
 "metadata": {
  "kernelspec": {
   "display_name": "Python 3 (ipykernel)",
   "language": "python",
   "name": "python3"
  },
  "language_info": {
   "codemirror_mode": {
    "name": "ipython",
    "version": 3
   },
   "file_extension": ".py",
   "mimetype": "text/x-python",
   "name": "python",
   "nbconvert_exporter": "python",
   "pygments_lexer": "ipython3",
   "version": "3.12.4"
  }
 },
 "nbformat": 4,
 "nbformat_minor": 5
}
