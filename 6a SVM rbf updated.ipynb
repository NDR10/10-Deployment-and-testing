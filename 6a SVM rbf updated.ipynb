{
 "cells": [
  {
   "cell_type": "code",
   "execution_count": null,
   "id": "fc6e7705-ec76-4184-b6b3-847ca295ccec",
   "metadata": {},
   "outputs": [],
   "source": [
    "import sklearn\n",
    "import pandas as pd"
   ]
  },
  {
   "cell_type": "code",
   "execution_count": null,
   "id": "9b7c80c5-4372-4fb9-a3ab-77bf859a64a7",
   "metadata": {},
   "outputs": [],
   "source": [
    "dataset = pd.read_csv (\"50_Startups.csv\")\n",
    "dataset"
   ]
  },
  {
   "cell_type": "code",
   "execution_count": null,
   "id": "b92cd013-dbfe-4948-8cba-3b49a4d889f2",
   "metadata": {},
   "outputs": [],
   "source": [
    "dataset.columns"
   ]
  },
  {
   "cell_type": "code",
   "execution_count": null,
   "id": "4918fb54-dd8b-448d-bb01-70dffd1c7205",
   "metadata": {},
   "outputs": [],
   "source": [
    "dataset.shape"
   ]
  },
  {
   "cell_type": "code",
   "execution_count": null,
   "id": "979b222b-6d85-40ca-abdb-5150ba59f832",
   "metadata": {},
   "outputs": [],
   "source": [
    "dataset.info()\n",
    "dataset.describe().T"
   ]
  },
  {
   "cell_type": "code",
   "execution_count": null,
   "id": "8e0554e0-bb04-4388-ab95-36a660c33dc3",
   "metadata": {},
   "outputs": [],
   "source": [
    "dataset = pd.get_dummies(dataset, dtype = int, drop_first = True)\n",
    "dataset"
   ]
  },
  {
   "cell_type": "code",
   "execution_count": null,
   "id": "00440ff8-ba2a-4566-998a-17bfc08289ba",
   "metadata": {},
   "outputs": [],
   "source": [
    "Input = dataset[['R&D Spend', 'Administration', 'Marketing Spend', 'State_Florida', 'State_New York']]\n",
    "Input"
   ]
  },
  {
   "cell_type": "code",
   "execution_count": null,
   "id": "1875b907-b3f6-4b83-8c17-a7bf41cab67f",
   "metadata": {},
   "outputs": [],
   "source": [
    "Output = dataset[[\"Profit\"]]\n",
    "Output"
   ]
  },
  {
   "cell_type": "code",
   "execution_count": null,
   "id": "24bc49f0-00f6-46b3-81ce-54a2eb64b583",
   "metadata": {},
   "outputs": [],
   "source": [
    "from sklearn.model_selection import train_test_split as tts\n",
    "X_train, X_test, Y_train, Y_test = tts (Input, Output, test_size = 0.3, random_state = 0)"
   ]
  },
  {
   "cell_type": "code",
   "execution_count": null,
   "id": "f18d668f-9afe-4d40-9a22-085abf8a1d99",
   "metadata": {},
   "outputs": [],
   "source": [
    "X_train"
   ]
  },
  {
   "cell_type": "code",
   "execution_count": null,
   "id": "3ef1cd41-1192-4f26-9230-7e2ba42c9f18",
   "metadata": {},
   "outputs": [],
   "source": [
    "from sklearn.preprocessing import StandardScaler\n",
    "sc = StandardScaler()\n",
    "X_train = sc.fit_transform(X_train)\n",
    "X_test = sc.transform(X_test)"
   ]
  },
  {
   "cell_type": "code",
   "execution_count": null,
   "id": "34ebdf23-d0fa-433b-b4c5-38057c95047c",
   "metadata": {},
   "outputs": [],
   "source": [
    "X_train"
   ]
  },
  {
   "cell_type": "code",
   "execution_count": null,
   "id": "ce9a68d7-cbb6-425b-a704-86cb36b08a1a",
   "metadata": {},
   "outputs": [],
   "source": [
    "from sklearn.svm import SVR\n",
    "Model = SVR(kernel = \"rbf\", C = 10000)\n",
    "Model.fit(X_train, Y_train)"
   ]
  },
  {
   "cell_type": "code",
   "execution_count": null,
   "id": "f6f5063a-238a-4727-85cc-82fc50172de2",
   "metadata": {},
   "outputs": [],
   "source": [
    "Y_pred = Model.predict(X_test)"
   ]
  },
  {
   "cell_type": "code",
   "execution_count": null,
   "id": "ea6bd60f-fd09-4fe6-8dd5-c201c39a698f",
   "metadata": {},
   "outputs": [],
   "source": [
    "Bias = Model.intercept_\n",
    "Bias"
   ]
  },
  {
   "cell_type": "code",
   "execution_count": null,
   "id": "ee5add85-f13a-45e2-8e63-774901a23355",
   "metadata": {},
   "outputs": [],
   "source": [
    "Model.n_support_"
   ]
  },
  {
   "cell_type": "code",
   "execution_count": null,
   "id": "5ff94cf3-324c-4b4d-a728-c81043e52d67",
   "metadata": {},
   "outputs": [],
   "source": [
    "Model.support_"
   ]
  },
  {
   "cell_type": "code",
   "execution_count": null,
   "id": "3f9efd23-fee9-44af-bfda-02e38e8374fd",
   "metadata": {},
   "outputs": [],
   "source": [
    "Y_pred = Model.predict(X_test)"
   ]
  },
  {
   "cell_type": "code",
   "execution_count": null,
   "id": "07c6ff2e-adc5-47a4-890a-71da625a450d",
   "metadata": {},
   "outputs": [],
   "source": [
    "from sklearn.metrics import r2_score\n",
    "r_score = r2_score(Y_test, Y_pred)\n",
    "r_score"
   ]
  },
  {
   "cell_type": "code",
   "execution_count": null,
   "id": "9fe5d23a-801e-4c9b-addd-3806dd6f15b4",
   "metadata": {},
   "outputs": [],
   "source": [
    "import pickle\n",
    "filename = \"Python_program_SVM_rbf.sav\"\n",
    "pickle.dump (Model, open(filename, \"wb\"))"
   ]
  },
  {
   "cell_type": "code",
   "execution_count": null,
   "id": "abea230b-8c64-4fb9-a3ce-4bf2c5161e99",
   "metadata": {},
   "outputs": [],
   "source": [
    "load_model=pickle.load(open(\"Python_program_SVM_rbf.sav\", \"rb\"))\n",
    "Result = load_model.predict([[1245,785,9886,1,0]])\n",
    "Result"
   ]
  },
  {
   "cell_type": "code",
   "execution_count": null,
   "id": "7a7c4518-d6a8-49cd-abcb-5e392a95e690",
   "metadata": {},
   "outputs": [],
   "source": []
  }
 ],
 "metadata": {
  "kernelspec": {
   "display_name": "Python 3 (ipykernel)",
   "language": "python",
   "name": "python3"
  },
  "language_info": {
   "codemirror_mode": {
    "name": "ipython",
    "version": 3
   },
   "file_extension": ".py",
   "mimetype": "text/x-python",
   "name": "python",
   "nbconvert_exporter": "python",
   "pygments_lexer": "ipython3",
   "version": "3.12.4"
  }
 },
 "nbformat": 4,
 "nbformat_minor": 5
}
